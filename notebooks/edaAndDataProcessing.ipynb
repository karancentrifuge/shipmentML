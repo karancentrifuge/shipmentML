{
 "cells": [
  {
   "cell_type": "code",
   "execution_count": 1,
   "metadata": {},
   "outputs": [],
   "source": [
    "%matplotlib inline\n",
    "##############system functions#################\n",
    "import os\n",
    "import datetime\n",
    "\n",
    "##############pandas###################\n",
    "import pandas as pd\n",
    "from pandas.api.types import is_numeric_dtype\n",
    "\n",
    "##############numpy###################\n",
    "import numpy as np\n",
    "\n",
    "##############visualizations###################\n",
    "import matplotlib.pyplot as plt\n",
    "\n",
    "\n",
    "##############statsmodels####################\n",
    "from statsmodels.stats.outliers_influence import variance_inflation_factor\n",
    "\n",
    "##############sklearn##############################\n",
    "from sklearn.model_selection import train_test_split\n",
    "from sklearn.preprocessing import OneHotEncoder, StandardScaler\n",
    "from sklearn.experimental import enable_iterative_imputer  \n",
    "from sklearn.impute import IterativeImputer\n",
    "from sklearn.impute import SimpleImputer\n",
    "# from sklearn.pandas import CategoricalImputer\n",
    "from sklearn.compose import ColumnTransformer\n",
    "from sklearn.pipeline import Pipeline\n",
    "\n",
    "\n",
    "#############tensorflow###################\n",
    "import tensorflow as tf\n",
    "from tensorflow import keras\n",
    "\n",
    "pd.set_option('display.max_rows', 1000)\n",
    "pd.set_option('display.max_columns', None)"
   ]
  },
  {
   "cell_type": "code",
   "execution_count": 2,
   "metadata": {},
   "outputs": [
    {
     "name": "stdout",
     "output_type": "stream",
     "text": [
      "Current Directory: /mnt/c/Users/18567/shipmentML/notebooks\n",
      "Directory changed.\n"
     ]
    }
   ],
   "source": [
    "try:\n",
    "    #Obtain current directory\n",
    "    print(\"Current Directory:\", os.getcwd())\n",
    "    #Change the current working Directory    \n",
    "    os.chdir(\"../aisData/AIS_ASCII_by_UTM_Month/2017_v2/\")\n",
    "    print(\"Directory changed.\")\n",
    "except OSError:\n",
    "    print(\"Can't change the Current Working Directory.\")    "
   ]
  },
  {
   "cell_type": "code",
   "execution_count": 3,
   "metadata": {},
   "outputs": [],
   "source": [
    "#Helper Functions\n",
    "def frac(df, fraction, other_info=None):\n",
    "    \"\"\"\n",
    "    Input parameter df: dataframe object.\n",
    "    Input parameter fraction: float between 0 and 1.\n",
    "    Output: dataframe object.\n",
    "    \n",
    "    Returns fraction of data.\n",
    "    \"\"\"\n",
    "    return df.sample(frac=fraction)\n",
    "\n",
    "def percentOfNulls(df):\n",
    "    \"\"\"\n",
    "       Input parameter df: dataframe object.\n",
    "       Output: series object.\n",
    "       \n",
    "       Returns percentage of nulls in each column. \n",
    "    \"\"\"\n",
    "    \n",
    "    return df.isna().sum(axis=0)/len(df)\n",
    "\n",
    "def removeNullsThreshold(df, threshold):\n",
    "    \"\"\"\n",
    "       Input parameter df: dataframe object.\n",
    "       Input parameter threshold: float value between 0 and 1. \n",
    "       Output: dataframe object.\n",
    "       \n",
    "       Removes any columns where nulls are greater than some threshold. \n",
    "    \"\"\"\n",
    "    colIndex = percentOfNulls(df).where(lambda val: val < threshold)\\\n",
    "                                 .dropna()\\\n",
    "                                 .index\n",
    "    return df.loc[:, colIndex]\n",
    "\n",
    "def numericData(df):\n",
    "    \"\"\"\n",
    "       Input parameter df: dataframe object.\n",
    "       Output: dataframe object.\n",
    "       \n",
    "       Returns only numeric columns. \n",
    "    \"\"\"\n",
    "    \n",
    "    booleanMask = df.apply(lambda series: is_numeric_dtype(series) , result_type='expand')\n",
    "    return df.loc[:, booleanMask]\n",
    "    \n",
    "\n",
    "def percentOfNegatives(df):\n",
    "    \"\"\"\n",
    "       Input parameter df: dataframe object.\n",
    "       Output: series object.\n",
    "       \n",
    "       Returns percentage of negatives in each column. \n",
    "    \"\"\"\n",
    "    return (numericData(df) < 0).sum(axis=0)/len(df)\n",
    "    \n",
    "def sparseData(df):\n",
    "    \"\"\"\n",
    "       Input parameter df: dataframe object.\n",
    "       Output: series object.\n",
    "       \n",
    "       Returns percentage of zeroes in each column. \n",
    "    \"\"\"\n",
    "    \n",
    "    return ((df == 0).sum(axis=0))/len(df)\n",
    "\n",
    "\n",
    "def filterData(df, colName, count):\n",
    "    \"\"\"\n",
    "       Input parameter df: dataframe object.\n",
    "       Input parameter colName: string.\n",
    "       Input parameter count: integer value. \n",
    "       Output: dataframe object.\n",
    "       \n",
    "       Returns subsetted data by grouping on a column and removes any group with fewer records than the count.  \n",
    "    \"\"\"\n",
    "    groups = df[colName].value_counts()\\\n",
    "                     .where(lambda val: val > count)\\\n",
    "                     .dropna()\\\n",
    "                     .index\n",
    "    \n",
    "    result = df.loc[df[colName].isin(groups)]\n",
    "    return result \n",
    "\n",
    "def calculateVif(df,  labelName, threshold=0.5, excludeNa=True):\n",
    "    \"\"\"\n",
    "       Input parameter df: dataframe object.\n",
    "       Input parameter labelName: string.\n",
    "       Input parameter threshold: integer value. \n",
    "       Input parameter excludeNa: boolean\n",
    "       Output: series object.\n",
    "       \n",
    "       Calculates variance inflactor factor for each numeric column in dataframe. Values above 5 are said to be colinear.  \n",
    "    \"\"\"\n",
    "    X = df.drop(labelName, axis = 1)\\\n",
    "          .assign(const=1)\n",
    "    X = numericData(X)\n",
    "    if excludeNa:\n",
    "        X = X.dropna()\n",
    "    assert any(percentOfNulls(X).apply(lambda val: val > 0)) != True, \"Data contains nulls.\"\n",
    "    result = pd.Series([variance_inflation_factor(X.values, i) for i in range(X.shape[1])], index=X.columns)\n",
    "    return result"
   ]
  },
  {
   "cell_type": "code",
   "execution_count": 4,
   "metadata": {},
   "outputs": [],
   "source": [
    "#Read in the data\n",
    "jan2017Data = pd.read_csv('AIS_2017_01_Zone10.csv')"
   ]
  },
  {
   "cell_type": "code",
   "execution_count": 5,
   "metadata": {},
   "outputs": [],
   "source": [
    "#Subset data for faster computation (not randomly done)\n",
    "jan2017Data = jan2017Data.iloc[:1000000]\n",
    "\n",
    "#Subset data for faster computation (randomly done) #Don't use this technique if preprocessing\n",
    "# jan2017Data = frac(jan2017Data, 0.05)"
   ]
  },
  {
   "cell_type": "markdown",
   "metadata": {},
   "source": [
    "# Exploratory Data Analysis (will add more)"
   ]
  },
  {
   "cell_type": "code",
   "execution_count": 6,
   "metadata": {},
   "outputs": [
    {
     "data": {
      "text/html": [
       "<div>\n",
       "<style scoped>\n",
       "    .dataframe tbody tr th:only-of-type {\n",
       "        vertical-align: middle;\n",
       "    }\n",
       "\n",
       "    .dataframe tbody tr th {\n",
       "        vertical-align: top;\n",
       "    }\n",
       "\n",
       "    .dataframe thead th {\n",
       "        text-align: right;\n",
       "    }\n",
       "</style>\n",
       "<table border=\"1\" class=\"dataframe\">\n",
       "  <thead>\n",
       "    <tr style=\"text-align: right;\">\n",
       "      <th></th>\n",
       "      <th>MMSI</th>\n",
       "      <th>BaseDateTime</th>\n",
       "      <th>LAT</th>\n",
       "      <th>LON</th>\n",
       "      <th>SOG</th>\n",
       "      <th>COG</th>\n",
       "      <th>Heading</th>\n",
       "      <th>VesselName</th>\n",
       "      <th>IMO</th>\n",
       "      <th>CallSign</th>\n",
       "      <th>VesselType</th>\n",
       "      <th>Status</th>\n",
       "      <th>Length</th>\n",
       "      <th>Width</th>\n",
       "      <th>Draft</th>\n",
       "      <th>Cargo</th>\n",
       "    </tr>\n",
       "  </thead>\n",
       "  <tbody>\n",
       "    <tr>\n",
       "      <th>0</th>\n",
       "      <td>367114690</td>\n",
       "      <td>2017-01-01T00:00:06</td>\n",
       "      <td>48.51094</td>\n",
       "      <td>-122.60705</td>\n",
       "      <td>0.0</td>\n",
       "      <td>-49.6</td>\n",
       "      <td>511.0</td>\n",
       "      <td>NaN</td>\n",
       "      <td>NaN</td>\n",
       "      <td>NaN</td>\n",
       "      <td>NaN</td>\n",
       "      <td>under way using engine</td>\n",
       "      <td>NaN</td>\n",
       "      <td>NaN</td>\n",
       "      <td>NaN</td>\n",
       "      <td>NaN</td>\n",
       "    </tr>\n",
       "    <tr>\n",
       "      <th>1</th>\n",
       "      <td>367479990</td>\n",
       "      <td>2017-01-01T00:00:03</td>\n",
       "      <td>48.15891</td>\n",
       "      <td>-122.67268</td>\n",
       "      <td>0.1</td>\n",
       "      <td>10.1</td>\n",
       "      <td>353.0</td>\n",
       "      <td>WSF KENNEWICK</td>\n",
       "      <td>IMO9618331</td>\n",
       "      <td>WDF6991</td>\n",
       "      <td>1012.0</td>\n",
       "      <td>moored</td>\n",
       "      <td>83.39</td>\n",
       "      <td>19.5</td>\n",
       "      <td>3.2</td>\n",
       "      <td>NaN</td>\n",
       "    </tr>\n",
       "    <tr>\n",
       "      <th>2</th>\n",
       "      <td>368319000</td>\n",
       "      <td>2017-01-01T00:00:08</td>\n",
       "      <td>43.34576</td>\n",
       "      <td>-124.32142</td>\n",
       "      <td>0.0</td>\n",
       "      <td>32.8</td>\n",
       "      <td>173.0</td>\n",
       "      <td>NaN</td>\n",
       "      <td>NaN</td>\n",
       "      <td>NaN</td>\n",
       "      <td>NaN</td>\n",
       "      <td>engaged in fishing</td>\n",
       "      <td>NaN</td>\n",
       "      <td>NaN</td>\n",
       "      <td>NaN</td>\n",
       "      <td>NaN</td>\n",
       "    </tr>\n",
       "    <tr>\n",
       "      <th>3</th>\n",
       "      <td>367154100</td>\n",
       "      <td>2017-01-01T00:00:15</td>\n",
       "      <td>46.74264</td>\n",
       "      <td>-124.93125</td>\n",
       "      <td>6.8</td>\n",
       "      <td>6.0</td>\n",
       "      <td>352.0</td>\n",
       "      <td>NaN</td>\n",
       "      <td>NaN</td>\n",
       "      <td>NaN</td>\n",
       "      <td>NaN</td>\n",
       "      <td>undefined</td>\n",
       "      <td>NaN</td>\n",
       "      <td>NaN</td>\n",
       "      <td>NaN</td>\n",
       "      <td>NaN</td>\n",
       "    </tr>\n",
       "    <tr>\n",
       "      <th>4</th>\n",
       "      <td>367446870</td>\n",
       "      <td>2017-01-01T00:00:59</td>\n",
       "      <td>48.51320</td>\n",
       "      <td>-122.60718</td>\n",
       "      <td>0.0</td>\n",
       "      <td>23.2</td>\n",
       "      <td>511.0</td>\n",
       "      <td>NaN</td>\n",
       "      <td>NaN</td>\n",
       "      <td>NaN</td>\n",
       "      <td>NaN</td>\n",
       "      <td>NaN</td>\n",
       "      <td>NaN</td>\n",
       "      <td>NaN</td>\n",
       "      <td>NaN</td>\n",
       "      <td>NaN</td>\n",
       "    </tr>\n",
       "  </tbody>\n",
       "</table>\n",
       "</div>"
      ],
      "text/plain": [
       "        MMSI         BaseDateTime       LAT        LON  SOG   COG  Heading  \\\n",
       "0  367114690  2017-01-01T00:00:06  48.51094 -122.60705  0.0 -49.6    511.0   \n",
       "1  367479990  2017-01-01T00:00:03  48.15891 -122.67268  0.1  10.1    353.0   \n",
       "2  368319000  2017-01-01T00:00:08  43.34576 -124.32142  0.0  32.8    173.0   \n",
       "3  367154100  2017-01-01T00:00:15  46.74264 -124.93125  6.8   6.0    352.0   \n",
       "4  367446870  2017-01-01T00:00:59  48.51320 -122.60718  0.0  23.2    511.0   \n",
       "\n",
       "      VesselName         IMO CallSign  VesselType                  Status  \\\n",
       "0            NaN         NaN      NaN         NaN  under way using engine   \n",
       "1  WSF KENNEWICK  IMO9618331  WDF6991      1012.0                  moored   \n",
       "2            NaN         NaN      NaN         NaN      engaged in fishing   \n",
       "3            NaN         NaN      NaN         NaN               undefined   \n",
       "4            NaN         NaN      NaN         NaN                     NaN   \n",
       "\n",
       "   Length  Width  Draft  Cargo  \n",
       "0     NaN    NaN    NaN    NaN  \n",
       "1   83.39   19.5    3.2    NaN  \n",
       "2     NaN    NaN    NaN    NaN  \n",
       "3     NaN    NaN    NaN    NaN  \n",
       "4     NaN    NaN    NaN    NaN  "
      ]
     },
     "execution_count": 6,
     "metadata": {},
     "output_type": "execute_result"
    }
   ],
   "source": [
    "#Snippet of data \n",
    "jan2017Data.head()"
   ]
  },
  {
   "cell_type": "code",
   "execution_count": 7,
   "metadata": {},
   "outputs": [
    {
     "data": {
      "text/plain": [
       "(1000000, 16)"
      ]
     },
     "execution_count": 7,
     "metadata": {},
     "output_type": "execute_result"
    }
   ],
   "source": [
    "#Size of data \n",
    "jan2017Data.shape"
   ]
  },
  {
   "cell_type": "code",
   "execution_count": 8,
   "metadata": {},
   "outputs": [
    {
     "data": {
      "text/plain": [
       "MMSI              int64\n",
       "BaseDateTime     object\n",
       "LAT             float64\n",
       "LON             float64\n",
       "SOG             float64\n",
       "COG             float64\n",
       "Heading         float64\n",
       "VesselName       object\n",
       "IMO              object\n",
       "CallSign         object\n",
       "VesselType      float64\n",
       "Status           object\n",
       "Length          float64\n",
       "Width           float64\n",
       "Draft           float64\n",
       "Cargo           float64\n",
       "dtype: object"
      ]
     },
     "execution_count": 8,
     "metadata": {},
     "output_type": "execute_result"
    }
   ],
   "source": [
    "#Check types of columns\n",
    "jan2017Data.dtypes"
   ]
  },
  {
   "cell_type": "code",
   "execution_count": 9,
   "metadata": {},
   "outputs": [
    {
     "name": "stdout",
     "output_type": "stream",
     "text": [
      "The number of unique ships in the data is 1763.\n"
     ]
    }
   ],
   "source": [
    "#Obtain number of ships \n",
    "print(\"The number of unique ships in the data is {}.\".format(len(jan2017Data['MMSI'].unique())))"
   ]
  },
  {
   "cell_type": "code",
   "execution_count": 10,
   "metadata": {},
   "outputs": [
    {
     "data": {
      "image/png": "[encoded data removed]",
      "text/plain": [
       "<Figure size 864x1728 with 8 Axes>"
      ]
     },
     "metadata": {
      "needs_background": "light"
     },
     "output_type": "display_data"
    }
   ],
   "source": [
    "#Speed & Width & Length Distribution Plots \n",
    "#There are speeds that are below 0 as well as NA's. Consider when preprocessing.\n",
    "#There are lengths that are NA. Consider when preprocessing.\n",
    "#There are widths that are NA. Consider when preprocessing. \n",
    "\n",
    "avgSpeedPerShip = jan2017Data.groupby('MMSI')\\\n",
    "                             .mean()['SOG']\\\n",
    "                             .where(lambda val: val > 0)\n",
    "avgLengthPerShip = jan2017Data.groupby('MMSI')\\\n",
    "                              .mean()['Length']\n",
    "avgWidthPerShip = jan2017Data.groupby('MMSI')\\\n",
    "                             .mean()['Width']\n",
    "avgDraftPerShip = jan2017Data.groupby('MMSI')\\\n",
    "                             .mean()['Draft']\n",
    "\n",
    "plt.figure(num=1, figsize=(12, 24))\n",
    "\n",
    "plt.subplot(421)\n",
    "ax1 = avgSpeedPerShip.plot(kind='hist', title='Histogram of Average Ship Speed', label='avgSpeed={:.2f}'.format(avgSpeedPerShip.mean()))\n",
    "ax1.legend()\n",
    "ax1.set_xlabel('Speed(Knots)')\n",
    "\n",
    "plt.subplot(422)\n",
    "ax2 = avgSpeedPerShip.plot(kind='density', title='Distribution of Average Ship Speed', label='avgSpeed={:.2f}'.format(avgSpeedPerShip.mean()))\n",
    "ax2.set_xlabel('Speed(Knots)')\n",
    "ax2.legend()\n",
    "\n",
    "plt.subplot(423)\n",
    "ax3 = avgLengthPerShip.plot(kind='hist', title='Histogram of Average Ship Length', label='avgLength={:.2f}'.format(avgLengthPerShip.mean()))\n",
    "ax3.legend()\n",
    "ax3.set_xlabel('Length(meters)')\n",
    "\n",
    "plt.subplot(424)\n",
    "ax4 = avgLengthPerShip.plot(kind='density', title='Distribution of Average Ship Length', label='avgLength={:.2f}'.format(avgLengthPerShip.mean()))\n",
    "ax4.set_xlabel('Length(meters)')\n",
    "ax4.legend()\n",
    "\n",
    "\n",
    "plt.subplot(425)\n",
    "ax5 = avgWidthPerShip.plot(kind='hist', title='Histogram of Average Ship Width', label='avgWidth={:.2f}'.format(avgWidthPerShip.mean()))\n",
    "ax5.legend()\n",
    "ax5.set_xlabel('Width(meters)')\n",
    "\n",
    "plt.subplot(426)\n",
    "ax6 = avgWidthPerShip.plot(kind='density', title='Distribution of Average Ship Width', label='avgWidth={:.2f}'.format(avgWidthPerShip.mean()))\n",
    "ax6.set_xlabel('Width(meters)')\n",
    "ax6.legend()\n",
    "\n",
    "plt.subplot(427)\n",
    "ax6 = avgWidthPerShip.plot(kind='hist', title='Distribution of Average Ship Draft', label='avgDraft={:.2f}'.format(avgDraftPerShip.mean()))\n",
    "ax6.set_xlabel('Draft(meters)')\n",
    "ax6.legend()\n",
    "\n",
    "plt.subplot(428)\n",
    "ax6 = avgDraftPerShip.plot(kind='density', title='Distribution of Average Ship Draft', label='avgDraft={:.2f}'.format(avgDraftPerShip.mean()))\n",
    "ax6.set_xlabel('Draft(meters)')\n",
    "ax6.legend()\n",
    "plt.show()"
   ]
  },
  {
   "cell_type": "markdown",
   "metadata": {},
   "source": [
    "# Data Preprocessing (will add more)"
   ]
  },
  {
   "cell_type": "code",
   "execution_count": 11,
   "metadata": {},
   "outputs": [],
   "source": [
    "#Change a column to datetime\n",
    "jan2017Data['BaseDateTime'] = pd.to_datetime(jan2017Data['BaseDateTime'])"
   ]
  },
  {
   "cell_type": "code",
   "execution_count": 12,
   "metadata": {},
   "outputs": [],
   "source": [
    "#Obtain the time differences for each ship & create new time column which follows index order & create labels\n",
    "aggDf = jan2017Data.groupby('MMSI', sort=False)\\\n",
    "                   .apply(lambda df: df.sort_values(by='BaseDateTime'))\n",
    "timeDiff = aggDf.groupby(level=0, sort=False)\\\n",
    "                .apply(lambda df: df['BaseDateTime'].diff())\\\n",
    "                .reset_index(level=[0,1], drop=True)\n",
    "\n",
    "jan2017Data['timeDiff'] = timeDiff\n",
    "\n",
    "jan2017Data['labels'] = jan2017Data['timeDiff'].apply(lambda val:1 if val > datetime.timedelta(minutes=2) else 0)"
   ]
  },
  {
   "cell_type": "code",
   "execution_count": 13,
   "metadata": {},
   "outputs": [
    {
     "data": {
      "text/plain": [
       "MMSI          0.000000\n",
       "LAT           0.000000\n",
       "LON           1.000000\n",
       "SOG           0.003263\n",
       "COG           0.542493\n",
       "Heading       0.000000\n",
       "VesselType    0.000000\n",
       "Length        0.000000\n",
       "Width         0.000000\n",
       "Draft         0.000000\n",
       "Cargo         0.000000\n",
       "labels        0.000000\n",
       "dtype: float64"
      ]
     },
     "execution_count": 13,
     "metadata": {},
     "output_type": "execute_result"
    }
   ],
   "source": [
    "#Percentage of Negatives in the Data #Check for any outliers \n",
    "percentOfNegatives(jan2017Data)"
   ]
  },
  {
   "cell_type": "code",
   "execution_count": 14,
   "metadata": {},
   "outputs": [
    {
     "name": "stdout",
     "output_type": "stream",
     "text": [
      "MMSI            0.000000\n",
      "BaseDateTime    0.000000\n",
      "LAT             0.000000\n",
      "LON             0.000000\n",
      "SOG             0.000000\n",
      "COG             0.000000\n",
      "Heading         0.000000\n",
      "VesselName      0.044306\n",
      "IMO             0.522415\n",
      "CallSign        0.193714\n",
      "VesselType      0.111413\n",
      "Status          0.306071\n",
      "Length          0.145443\n",
      "Width           0.295900\n",
      "Draft           0.584314\n",
      "Cargo           0.637563\n",
      "timeDiff        0.001763\n",
      "labels          0.000000\n",
      "dtype: float64\n"
     ]
    }
   ],
   "source": [
    "#Percentage of Nulls in the Data #Remove columns with nulls greater than 0.8\n",
    "print(percentOfNulls(jan2017Data))\n",
    "jan2017Data = removeNullsThreshold(jan2017Data, 0.6)"
   ]
  },
  {
   "cell_type": "code",
   "execution_count": 15,
   "metadata": {},
   "outputs": [],
   "source": [
    "#Write code to check for duplicates & remove them"
   ]
  },
  {
   "cell_type": "code",
   "execution_count": 16,
   "metadata": {},
   "outputs": [],
   "source": [
    "#Remove ships with less than 10 records #Will need to change labeledData back to jan2017Data for entire notebook to flow\n",
    "labeledData = filterData(jan2017Data, 'MMSI', 10)"
   ]
  },
  {
   "cell_type": "code",
   "execution_count": 17,
   "metadata": {},
   "outputs": [
    {
     "name": "stderr",
     "output_type": "stream",
     "text": [
      "/home/karan/anaconda3/envs/tf_gpu/lib/python3.7/site-packages/statsmodels/regression/linear_model.py:1685: RuntimeWarning: divide by zero encountered in double_scalars\n",
      "  return 1 - self.ssr/self.centered_tss\n"
     ]
    },
    {
     "data": {
      "text/plain": [
       "MMSI           1.154859\n",
       "LAT            1.525695\n",
       "LON            1.220996\n",
       "SOG            1.452918\n",
       "COG            1.043254\n",
       "Heading        1.326780\n",
       "VesselType     1.104800\n",
       "Length        20.046186\n",
       "Width         18.421015\n",
       "Draft          6.578384\n",
       "const          0.000000\n",
       "dtype: float64"
      ]
     },
     "execution_count": 17,
     "metadata": {},
     "output_type": "execute_result"
    }
   ],
   "source": [
    "#Checking multicollinearity of features #Write code that removes multicollinear features \n",
    "calculateVif(labeledData, 'labels')"
   ]
  },
  {
   "cell_type": "code",
   "execution_count": 18,
   "metadata": {},
   "outputs": [
    {
     "data": {
      "text/plain": [
       "0    533182\n",
       "1    466555\n",
       "Name: labels, dtype: int64"
      ]
     },
     "execution_count": 18,
     "metadata": {},
     "output_type": "execute_result"
    }
   ],
   "source": [
    "#Check class imbalance #Write code that resolves class imbalance if there is any\n",
    "labeledData['labels'].value_counts()"
   ]
  },
  {
   "cell_type": "code",
   "execution_count": 19,
   "metadata": {
    "scrolled": false
   },
   "outputs": [],
   "source": [
    "#Remove time columns and primary key identifiers #Remove MMSI after splitting data #Keep time component if using Recurrent Neural Network\n",
    "#Feature engineer lat and Lon because right now they don't represent anything.\n",
    "labeledData = labeledData.drop(['BaseDateTime', 'timeDiff', 'IMO', 'LAT','LON'], axis=1)"
   ]
  },
  {
   "cell_type": "code",
   "execution_count": 20,
   "metadata": {},
   "outputs": [],
   "source": [
    "#Distinguish the features\n",
    "numericFeatures = ['SOG', 'COG', 'Heading', 'Length','Width','Draft']\n",
    "categoricalFeatures = ['VesselName', 'CallSign', 'VesselType','Status']"
   ]
  },
  {
   "cell_type": "code",
   "execution_count": 21,
   "metadata": {
    "scrolled": true
   },
   "outputs": [],
   "source": [
    "#Fill na's of categorical features with -1 #Needed for one-hot encoding\n",
    "labeledData = labeledData.fillna({ \n",
    "                                    (colNames):('nan' if colNames in categoricalFeatures \n",
    "                                    else np.nan) for colNames in labeledData.columns \n",
    "                                 })\n",
    "#Create all values in VesselType to be the same #Needed for one-hot encoding\n",
    "labeledData['VesselType'] = labeledData['VesselType'].apply(lambda val: str(val))"
   ]
  },
  {
   "cell_type": "code",
   "execution_count": 22,
   "metadata": {
    "scrolled": true
   },
   "outputs": [],
   "source": [
    "#Divide the data into train and validation sets\n",
    "X = labeledData.loc[:, labeledData.columns != 'labels']\n",
    "y = labeledData.loc[:,'labels']\n",
    "X_train, X_test, y_train, y_test = train_test_split(X, y, test_size=0.3, random_state=0)"
   ]
  },
  {
   "cell_type": "code",
   "execution_count": 23,
   "metadata": {},
   "outputs": [],
   "source": [
    "#Store MMSI\n",
    "trainShips = X_train.pop('MMSI')\n",
    "testShips = X_test.pop('MMSI')"
   ]
  },
  {
   "cell_type": "code",
   "execution_count": 28,
   "metadata": {},
   "outputs": [],
   "source": [
    "#Impute numeric columns and scale based on gaussian with mean = 0 and std.dev of 1\n",
    "#One Hot Encode categorical features and drop a feature to reduce multicollinearity\n",
    "numericTransformer = Pipeline(steps=[\n",
    "                            ('simpImputer', SimpleImputer(strategy='median')),\n",
    "                            ('scaler', StandardScaler())\n",
    "                    ])\n",
    "\n",
    "categoricalTransformer = Pipeline(steps=[\n",
    "                            ('onehot', OneHotEncoder(drop='first'))\n",
    "                    ])\n",
    "\n",
    "preprocessor = ColumnTransformer(transformers=[\n",
    "                        ('num', numericTransformer, numericFeatures),\n",
    "                        ('cat', categoricalTransformer, categoricalFeatures)\n",
    "                    ])\n",
    "\n",
    "X_train = preprocessor.fit_transform(X_train)\n",
    "X_test = preprocessor.transform(X_test)\n",
    "# clf = Pipeline(steps=[('preprocessor', preprocessor),\n",
    "#                       ('classifier', LogisticRegression(solver='lbfgs'))])"
   ]
  },
  {
   "cell_type": "code",
   "execution_count": 32,
   "metadata": {},
   "outputs": [],
   "source": [
    "oneRow = X_train.toarray()[0]"
   ]
  },
  {
   "cell_type": "code",
   "execution_count": 33,
   "metadata": {},
   "outputs": [
    {
     "data": {
      "text/plain": [
       "(2867,)"
      ]
     },
     "execution_count": 33,
     "metadata": {},
     "output_type": "execute_result"
    }
   ],
   "source": [
    "oneRow.shape"
   ]
  },
  {
   "cell_type": "code",
   "execution_count": null,
   "metadata": {},
   "outputs": [],
   "source": [
    "with f as f.write"
   ]
  },
  {
   "cell_type": "markdown",
   "metadata": {},
   "source": [
    "# Modelling"
   ]
  },
  {
   "cell_type": "code",
   "execution_count": null,
   "metadata": {},
   "outputs": [],
   "source": [
    "%%time\n",
    "tf.random.set_seed(1)\n",
    "\n",
    "model = keras.Sequential([\n",
    "    keras.layers.Dense(16, activation=tf.nn.tanh, name='fc1', input_shape=(2867, )),\n",
    "    keras.layers.Dense(1, activation=tf.nn.sigmoid, name='fc2')\n",
    "])\n",
    "\n",
    "\n",
    "model.compile(optimizer='adam',\n",
    "             loss='binary_crossentropy',\n",
    "             metrics=['accuracy'])\n",
    "\n",
    "model.summary()\n",
    "\n",
    "\n",
    "numEpochs = 100\n",
    "trainingSize = 699815\n",
    "batchSize = 7\n",
    "stepsPerEpoch = np.ceil(trainingSize/batchSize)\n",
    "dsTrainOrig = tf.data.Dataset.from_tensor_slices(\n",
    "                                                 (tf.cast(X_train.toarray(), tf.float32), \n",
    "                                                  tf.cast(y_train, tf.float32))\n",
    "                                                )\n",
    "\n",
    "dsTrain = dsTrainOrig.shuffle(buffer_size=trainingSize)\n",
    "dsTrain = dsTrain.repeat()\n",
    "dsTrain = dsTrain.batch(batch_size=batchSize)\n",
    "dsTrain = dsTrain.prefetch(buffer_size=1000)\n",
    "\n",
    "history = model.fit(dsTrain, epochs=numEpochs, steps_per_epoch=stepsPerEpoch, verbose=0)\n",
    "\n",
    "# scores = model.evaluate(X, Y, verbose=0)\n",
    "# print(\"%s: %.2f%%\" % (model.metrics_names[1], scores[1]*100))\n",
    "\n",
    "history.model.save('trialModel.h5',\n",
    "                overwrite=True,\n",
    "                include_optimizer=True,\n",
    "                save_format='h5')"
   ]
  }
 ],
 "metadata": {
  "kernelspec": {
   "display_name": "Python (tf_gpu)",
   "language": "python",
   "name": "tf_gpu"
  },
  "language_info": {
   "codemirror_mode": {
    "name": "ipython",
    "version": 3
   },
   "file_extension": ".py",
   "mimetype": "text/x-python",
   "name": "python",
   "nbconvert_exporter": "python",
   "pygments_lexer": "ipython3",
   "version": "3.7.6"
  }
 },
 "nbformat": 4,
 "nbformat_minor": 2
}
